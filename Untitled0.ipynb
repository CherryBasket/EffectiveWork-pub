{
  "nbformat": 4,
  "nbformat_minor": 0,
  "metadata": {
    "colab": {
      "provenance": [],
      "authorship_tag": "ABX9TyPu5cKbQfyQS3hwcs7o8cKc",
      "include_colab_link": true
    },
    "kernelspec": {
      "name": "python3",
      "display_name": "Python 3"
    },
    "language_info": {
      "name": "python"
    }
  },
  "cells": [
    {
      "cell_type": "markdown",
      "metadata": {
        "id": "view-in-github",
        "colab_type": "text"
      },
      "source": [
        "<a href=\"https://colab.research.google.com/github/CherryBasket/EffectiveWork-pub/blob/main/Untitled0.ipynb\" target=\"_parent\"><img src=\"https://colab.research.google.com/assets/colab-badge.svg\" alt=\"Open In Colab\"/></a>"
      ]
    },
    {
      "cell_type": "code",
      "execution_count": 1,
      "metadata": {
        "colab": {
          "base_uri": "https://localhost:8080/"
        },
        "id": "JxJBey-ffJuk",
        "outputId": "7c179de7-0ec8-40a5-9c22-913d57e1f51d"
      },
      "outputs": [
        {
          "output_type": "stream",
          "name": "stdout",
          "text": [
            "검색할 키워드를 입력하세요: 소프트웨어 결함 뉴스\n",
            "제목: [자동차 리콜] 벤츠·스텔란티스 등 62개 차종 5만760대 제작결함\n",
            "링크: http://www.00news.co.kr/news/articleView.html?idxno=84668\n",
            "\n",
            "제목: 기아 SUV 42만 대 미국서 리콜…\"주차 기능 관련 결함\"\n",
            "링크: https://news.sbs.co.kr/news/endPage.do?news_id=N1007592816&plink=ORI&cooper=NAVER\n",
            "\n",
            "제목: 현대차·기아 '전기차 역대 최대' 17만대 리콜…주행 중 멈추는 결함\n",
            "링크: http://www.newsworks.co.kr/news/articleView.html?idxno=746540\n",
            "\n",
            "제목: [Who Is ?] 송호성 기아 대표이사 사장\n",
            "링크: https://www.businesspost.co.kr/BP?command=article_view&num=348845\n",
            "\n",
            "제목: 화재 우려 벤츠, 앞바퀴 분리 위험 스텔란티스 등 리콜\n",
            "링크: https://www.nocutnews.co.kr/news/6123186?utm_source=naver&utm_medium=article&utm_campaign=20240404065434\n",
            "\n",
            "제목: 현대차·BMW 등 43개 차종 6만9044대 '제작결함' 리콜\n",
            "링크: https://www.ziksir.com/news/articleView.html?idxno=53208\n",
            "\n",
            "제목: EQ900·BMW X7 등 제작 결함 6만9044대 '리콜'\n",
            "링크: http://www.newstomato.com/ReadNews.aspx?no=1222296&inflow=N\n",
            "\n",
            "제목: 테슬라 · 기아 · 현대 등 19개 차종서 제작결함, 54,792대 리콜\n",
            "링크: https://www.mhns.co.kr/news/articleView.html?idxno=574699\n",
            "\n",
            "제목: 화웨이, 디지털 인텔리전스 가속화 위한 ICT 서비스 및 소프트웨어 발표\n",
            "링크: http://www.boannews.com/media/view.asp?idx=127260&kind=\n",
            "\n",
            "제목: 가슴 쓸어내린 삼성, 갤럭시 S24 ‘충전 오류’, 기기 아닌 소프트웨어 문제…...\n",
            "링크: https://www.ddaily.co.kr/page/view/2024022014422604462\n",
            "\n"
          ]
        }
      ],
      "source": [
        "import requests\n",
        "from bs4 import BeautifulSoup\n",
        "\n",
        "def crawl_news(keyword):\n",
        "    # 네이버 뉴스 검색 URL\n",
        "    url = f\"https://search.naver.com/search.naver?query={keyword}&where=news\"\n",
        "\n",
        "    # HTTP GET 요청\n",
        "    response = requests.get(url)\n",
        "\n",
        "    # 응답 코드 확인\n",
        "    if response.status_code == 200:\n",
        "        # HTML 파싱\n",
        "        soup = BeautifulSoup(response.text, 'html.parser')\n",
        "\n",
        "        # 기사 제목과 링크 추출\n",
        "        articles = soup.find_all('div', class_='news_area')\n",
        "        for article in articles:\n",
        "            title = article.find('a', class_='news_tit').text\n",
        "            link = article.find('a', class_='news_tit')['href']\n",
        "            print(f\"제목: {title}\")\n",
        "            print(f\"링크: {link}\")\n",
        "            print()\n",
        "    else:\n",
        "        print(\"요청 실패\")\n",
        "\n",
        "# 키워드 입력 받기\n",
        "keyword = input(\"검색할 키워드를 입력하세요: \")\n",
        "crawl_news(keyword)"
      ]
    }
  ]
}